{
 "cells": [
  {
   "cell_type": "code",
   "execution_count": 8,
   "metadata": {},
   "outputs": [],
   "source": [
    "from matplotlib import pyplot as plt\n",
    "from matplotlib.colors import LinearSegmentedColormap\n",
    "import numpy as np"
   ]
  },
  {
   "cell_type": "code",
   "execution_count": 9,
   "metadata": {},
   "outputs": [],
   "source": [
    "# Input data:\n",
    "sleep_min = {'hours': 7, 'color_start': 'grey', 'color_end': 'grey'}\n",
    "sleep_range = {'hours': 2, 'color_start': '#F2F2F2', 'color_end': 'grey'}\n",
    "awake = {'hours': 15, 'color_start': '#0E294F', 'color_end': '#0E294F'}"
   ]
  },
  {
   "cell_type": "code",
   "execution_count": 12,
   "metadata": {},
   "outputs": [
    {
     "data": {
      "image/png": "[encoded data removed]",
      "text/plain": [
       "<Figure size 432x288 with 1 Axes>"
      ]
     },
     "metadata": {},
     "output_type": "display_data"
    }
   ],
   "source": [
    "# Elements of donut chart:\n",
    "sizes_pie = [sleep_range['hours'], sleep_min['hours'], awake['hours']]\n",
    "color_gradient = [(sleep_range['color_start'], sleep_range['color_end']),\n",
    "                  (sleep_min['color_start'], sleep_min['color_end']),\n",
    "                  (awake['color_start'], awake['color_end'])]\n",
    "\n",
    "fig, ax = plt.subplots()\n",
    "\n",
    "# Creating of Donut chart:\n",
    "patches, texts = ax.pie(sizes_pie, \n",
    "                        startangle=315, \n",
    "                        wedgeprops={'width': 0.3, \n",
    "                                    'linewidth': 0.1, \n",
    "                                    'edgecolor': '#F2F2F2'})\n",
    "\n",
    "# Color gradient of chart segments:\n",
    "for patches, color_gradient in zip(patches, color_gradient):\n",
    "\n",
    "    patches.set_facecolor('none')\n",
    "\n",
    "    bbox = patches.get_path().get_extents()\n",
    "    x_min, x_max, y_min, y_max = bbox.xmin, bbox.xmax, bbox.ymin, bbox.ymax\n",
    "    x = np.linspace(x_min, x_max, 256)[np.newaxis, :]\n",
    "    y = np.linspace(y_min, y_max, 256)[:, np.newaxis]\n",
    "\n",
    "    fill = np.degrees(np.pi - np.arctan2(y, -x))\n",
    "    gradient = ax.imshow(fill, \n",
    "                         cmap = LinearSegmentedColormap.from_list('',\n",
    "                                                                  color_gradient),\n",
    "                         extent = [x_min, x_max, y_min, y_max],\n",
    "                         origin='lower')\n",
    "    gradient.set_clip_path(patches)\n",
    "\n",
    "# Chart Title and Labels:\n",
    "plt.title('Recommended\\nsleep time\\nfor adults\\n7 - 9 hours', \n",
    "          {'fontname':'Arial'}, fontsize=12, color=\"#F2F2F2\", y=1, pad=-136)\n",
    "\n",
    "def chart_label(color, fontsize, ha):\n",
    "    \"\"\"Display hour marks on the chart\"\"\"\n",
    "    plt.text(0.05, 1.1, '0 hour / 24 hours', color=color, \n",
    "             fontsize=fontsize, ha=ha)\n",
    "    plt.text(1.25, -0.32, '7 hours', color=color, fontsize=fontsize, ha=ha)\n",
    "    plt.text(0.970, -0.82, '9 hours', color=color, fontsize=fontsize, ha=ha)\n",
    "\n",
    "chart_label('grey', 9, 'center')\n",
    "\n",
    "plt.savefig('donut_chart_sleep_time.png', dpi=200, facecolor='#222222', \n",
    "            bbox_inches=\"tight\")\n",
    "\n",
    "plt.show()"
   ]
  },
  {
   "cell_type": "code",
   "execution_count": null,
   "metadata": {},
   "outputs": [],
   "source": []
  }
 ],
 "metadata": {
  "kernelspec": {
   "display_name": "Python 3",
   "language": "python",
   "name": "python3"
  },
  "language_info": {
   "codemirror_mode": {
    "name": "ipython",
    "version": 3
   },
   "file_extension": ".py",
   "mimetype": "text/x-python",
   "name": "python",
   "nbconvert_exporter": "python",
   "pygments_lexer": "ipython3",
   "version": "3.9.7"
  }
 },
 "nbformat": 4,
 "nbformat_minor": 4
}
