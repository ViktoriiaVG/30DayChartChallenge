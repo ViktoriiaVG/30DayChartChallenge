{
 "cells": [
  {
   "cell_type": "code",
   "execution_count": 1,
   "id": "fd0b5a05",
   "metadata": {},
   "outputs": [],
   "source": [
    "import numpy as np\n",
    "import csv\n",
    "from csv import DictReader\n",
    "import matplotlib.pyplot as plt\n",
    "import matplotlib.gridspec as gridspec\n",
    "import time\n",
    "from time import gmtime, strftime\n",
    "import datetime\n",
    "from pywaffle import Waffle"
   ]
  },
  {
   "cell_type": "code",
   "execution_count": 2,
   "id": "cc8d658a",
   "metadata": {},
   "outputs": [],
   "source": [
    "with open(\"sleep_diary_march_2023.csv\", \"r\") as f:\n",
    "    reader = csv.DictReader(f)\n",
    "    data = list(reader)"
   ]
  },
  {
   "cell_type": "code",
   "execution_count": 3,
   "id": "1a515d38",
   "metadata": {},
   "outputs": [],
   "source": [
    "year = 2023\n",
    "month = 3\n",
    "\n",
    "weekday_label = [] \n",
    "values = [] \n",
    "\n",
    "for i in range(len(data)):\n",
    "    time_start = (year, month, i+1, 12, 0, 0, 0, 0, 0)\n",
    "    weekday_label.append(time_start)\n",
    "    time_go_to_bad = eval(data[i].get('go_to_bad'))\n",
    "    time_wake_up = eval(data[i].get('wake_up'))\n",
    "    time_end = (year, month, i+2, 12, 0, 0, 0, 0, 0)     \n",
    "    \n",
    "    res_go_to_bad = tuple(map(lambda n, j: n - j, time_go_to_bad, time_start))\n",
    "    res_sleep = tuple(map(lambda n, j: n - j, time_wake_up, time_go_to_bad))\n",
    "    res_awake = tuple(map(lambda n, j: n - j, time_end, time_wake_up))\n",
    "    \n",
    "    val_1 = res_go_to_bad[2]*24 + res_go_to_bad[3]\n",
    "    val_2 = res_sleep[2]*24 + res_sleep[3]\n",
    "    val_3 = res_awake[2]*24 + res_awake[3]\n",
    "    \n",
    "    values.append([0, val_1, val_2, val_3])"
   ]
  },
  {
   "cell_type": "code",
   "execution_count": 4,
   "id": "a5c29037",
   "metadata": {},
   "outputs": [],
   "source": [
    "value_waffle = [] \n",
    "for i in range(len(values)):\n",
    "    if i==0:\n",
    "        value_waffle.append([values[0][3], values[0][2], values[0][1], values[0][0]])\n",
    "    elif i > 0 and values[i][3] < 0:\n",
    "        value_waffle.append([0, \n",
    "                                 values[i][2]+values[i][3], \n",
    "                                 values[i][1], \n",
    "                                 values[i][0]])\n",
    "    elif i > 0 and values[i-1][3] < 0:\n",
    "        value_waffle.append([values[i][3], \n",
    "                                 values[i][2], \n",
    "                                 values[i][1]-abs(values[i-1][3]), \n",
    "                                 abs(values[i-1][3])])\n",
    "    else:\n",
    "        value_waffle.append([values[i][3], values[i][2], values[i][1], values[i][0]])\n",
    "        \n",
    "value_waffle_positiv = [0 if x<0 else x for x in sum(value_waffle, [])]"
   ]
  },
  {
   "cell_type": "code",
   "execution_count": 5,
   "id": "d0842238",
   "metadata": {},
   "outputs": [],
   "source": [
    "colors = []\n",
    "for i in range(len(value_waffle_positiv)):\n",
    "    if (i%2!=0):\n",
    "        colors.append(\"#69BD3B\")\n",
    "    else:\n",
    "        colors.append(\"#494B4D\")\n",
    "\n",
    "time_label = [\"12:00\", \"18:00\", \"00:00\", \"06:00\", \"12:00\"]"
   ]
  },
  {
   "cell_type": "code",
   "execution_count": 6,
   "id": "3c4d2ac1",
   "metadata": {},
   "outputs": [
    {
     "data": {
      "image/png": "[encoded data removed]",
      "text/plain": [
       "<Waffle size 648x432 with 1 Axes>"
      ]
     },
     "metadata": {
      "needs_background": "light"
     },
     "output_type": "display_data"
    }
   ],
   "source": [
    "plt.figure(FigureClass = Waffle, rows = 24, values = value_waffle_positiv, colors = colors, \n",
    "           figsize=(9, 6), block_aspect_ratio = 2)\n",
    "\n",
    "for i in range(len(time_label)):\n",
    "    plt.text(-0.15, -0.01+0.25*i, time_label[i], color='#F2F2F2', fontsize=10)\n",
    "\n",
    "for i in range(len(data)):\n",
    "    if strftime(\"%a\", gmtime(time.mktime(weekday_label[i]))) == 'Sat' or \\\n",
    "    strftime(\"%a\", gmtime(time.mktime(weekday_label[i]))) == 'Sun':\n",
    "        plt.text(0.020+i*0.0838, 1.05, strftime(\"%a\", gmtime(time.mktime(weekday_label[i]))), \n",
    "             color='#F2F2F2', fontsize=10, weight='bold', rotation=90, ha='left')\n",
    "    else:\n",
    "        plt.text(0.020+i*0.0838, 1.05, strftime(\"%a\", gmtime(time.mktime(weekday_label[i]))), \n",
    "             color='#F2F2F2', fontsize=10, rotation=90, ha='left')\n",
    "\n",
    "plt.text(1.76, 0.805, \"SLEEP\", color='#69BD3B', fontsize=45, weight='bold')\n",
    "plt.text(2.51, 0.365, \"DIARY\", color='#F2F2F2', fontsize=45, weight='bold', rotation=90)\n",
    "plt.text(-0.012, -0.13, strftime(\"%B\", gmtime(time.mktime(weekday_label[1]))).upper() + f' {year}', \n",
    "         color='#69BD3B', fontsize=30, weight='bold')\n",
    "\n",
    "plt.savefig('waffle_chart_sleep_diary.png', dpi=300, facecolor='#222222', bbox_inches=\"tight\")\n",
    "plt.show()"
   ]
  },
  {
   "cell_type": "code",
   "execution_count": null,
   "id": "32425ade",
   "metadata": {},
   "outputs": [],
   "source": []
  }
 ],
 "metadata": {
  "kernelspec": {
   "display_name": "Python 3",
   "language": "python",
   "name": "python3"
  },
  "language_info": {
   "codemirror_mode": {
    "name": "ipython",
    "version": 3
   },
   "file_extension": ".py",
   "mimetype": "text/x-python",
   "name": "python",
   "nbconvert_exporter": "python",
   "pygments_lexer": "ipython3",
   "version": "3.9.11"
  }
 },
 "nbformat": 4,
 "nbformat_minor": 5
}
